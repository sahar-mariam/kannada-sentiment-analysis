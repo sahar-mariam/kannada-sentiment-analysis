{
  "nbformat": 4,
  "nbformat_minor": 0,
  "metadata": {
    "colab": {
      "provenance": [],
      "gpuType": "T4",
      "authorship_tag": "ABX9TyPeqU4qbfaG/oWMTSnuAnnV",
      "include_colab_link": true
    },
    "kernelspec": {
      "name": "python3",
      "display_name": "Python 3"
    },
    "language_info": {
      "name": "python"
    },
    "accelerator": "GPU"
  },
  "cells": [
    {
      "cell_type": "markdown",
      "metadata": {
        "id": "view-in-github",
        "colab_type": "text"
      },
      "source": [
        "<a href=\"https://colab.research.google.com/github/sahar-mariam/kannada-sentiment-analysis/blob/main/IndicBERT_model.ipynb\" target=\"_parent\"><img src=\"https://colab.research.google.com/assets/colab-badge.svg\" alt=\"Open In Colab\"/></a>"
      ]
    },
    {
      "cell_type": "code",
      "source": [
        "# Import required libraries\n",
        "import pandas as pd\n",
        "import torch\n",
        "from transformers import AutoTokenizer, AutoModelForSequenceClassification\n",
        "\n",
        "# Check if GPU is available and set the device\n",
        "device = torch.device(\"cuda\" if torch.cuda.is_available() else \"cpu\")\n",
        "print(f\"Using device: {device}\")\n",
        "\n",
        "# Load the dataset\n",
        "file_path = \"/content/balanced_dataset.csv\"  # Update path if needed\n",
        "df = pd.read_csv(file_path)\n"
      ],
      "metadata": {
        "colab": {
          "base_uri": "https://localhost:8080/"
        },
        "id": "xJsIeRZ4Ygzs",
        "outputId": "134e3bd0-bbd0-4ff1-eb74-77f0dab00f01"
      },
      "execution_count": 25,
      "outputs": [
        {
          "output_type": "stream",
          "name": "stdout",
          "text": [
            "Using device: cuda\n"
          ]
        }
      ]
    },
    {
      "cell_type": "code",
      "source": [
        "# Inspect unique sentiment labels in the dataset\n",
        "print(\"Unique sentiment labels in the dataset before preprocessing:\")\n",
        "print(df['sentiment'].unique())\n",
        "\n",
        "# Preprocess the sentiment column\n",
        "# Replace numeric or unexpected labels with Kannada equivalents\n",
        "label_mapping_raw = {\n",
        "    0: \"ತಟಸ್ಥ\",        # Neutral\n",
        "    1: \"ಧನಾತ್ಮಕ\",      # Positive\n",
        "    2: \"ಋಣಾತ್ಮಕ\",      # Negative (alternative to \"ನಕಾರಾತ್ಮಕ\")\n",
        "    \"ನಕಾರಾತ್ಮಕ\": \"ಋಣಾತ್ಮಕ\"  # Normalize alternative negative labels\n",
        "}"
      ],
      "metadata": {
        "colab": {
          "base_uri": "https://localhost:8080/"
        },
        "id": "Zpv_dOTlZDqb",
        "outputId": "4a05295f-8d5f-40f1-f261-cc1ee7eb89f9"
      },
      "execution_count": 26,
      "outputs": [
        {
          "output_type": "stream",
          "name": "stdout",
          "text": [
            "Unique sentiment labels in the dataset before preprocessing:\n",
            "['ತಟಸ್ಥ' 'ಧನಾತ್ಮಕ' 'ಋಣಾತ್ಮಕ']\n"
          ]
        }
      ]
    },
    {
      "cell_type": "code",
      "source": [
        "# Replace numeric and alternative labels with standardized Kannada labels\n",
        "df['sentiment'] = df['sentiment'].replace(label_mapping_raw)\n",
        "\n",
        "# Verify the updated unique sentiment labels\n",
        "print(\"Unique sentiment labels in the dataset after preprocessing:\")\n",
        "print(df['sentiment'].unique())\n",
        "\n",
        "# Define the mapping for Kannada sentiment labels to English sentiment labels\n",
        "sentiment_mapping = {\n",
        "    \"ತಟಸ್ಥ\": \"neutral\",       # Neutral sentiment\n",
        "    \"ಧನಾತ್ಮಕ\": \"positive\",    # Positive sentiment\n",
        "    \"ಋಣಾತ್ಮಕ\": \"negative\"     # Negative sentiment\n",
        "}"
      ],
      "metadata": {
        "colab": {
          "base_uri": "https://localhost:8080/"
        },
        "id": "EI2McJLTZUvO",
        "outputId": "fd442340-0a7c-4009-8d20-874ee7470ab3"
      },
      "execution_count": 27,
      "outputs": [
        {
          "output_type": "stream",
          "name": "stdout",
          "text": [
            "Unique sentiment labels in the dataset after preprocessing:\n",
            "['ತಟಸ್ಥ' 'ಧನಾತ್ಮಕ' 'ಋಣಾತ್ಮಕ']\n"
          ]
        }
      ]
    },
    {
      "cell_type": "code",
      "source": [
        "# Ensure all labels in the dataset are covered\n",
        "try:\n",
        "    label_mapping = {idx: sentiment_mapping[label] for idx, label in enumerate(df['sentiment'].astype('category').cat.categories)}\n",
        "except KeyError as e:\n",
        "    raise ValueError(f\"Error: Sentiment label '{e.args[0]}' is not in sentiment_mapping. Please update the mapping.\")\n",
        "\n",
        "# Load the fine-tuned IndicBERT model\n",
        "model_name = \"ai4bharat/indic-bert\"\n",
        "tokenizer = AutoTokenizer.from_pretrained(model_name)\n",
        "model = AutoModelForSequenceClassification.from_pretrained(model_name, num_labels=len(label_mapping)).to(device)"
      ],
      "metadata": {
        "colab": {
          "base_uri": "https://localhost:8080/"
        },
        "id": "cAMX8pBfZnWJ",
        "outputId": "4c4a982e-86b8-4482-c93f-d19485053c3c"
      },
      "execution_count": 28,
      "outputs": [
        {
          "output_type": "stream",
          "name": "stderr",
          "text": [
            "Some weights of AlbertForSequenceClassification were not initialized from the model checkpoint at ai4bharat/indic-bert and are newly initialized: ['classifier.bias', 'classifier.weight']\n",
            "You should probably TRAIN this model on a down-stream task to be able to use it for predictions and inference.\n"
          ]
        }
      ]
    },
    {
      "cell_type": "code",
      "source": [
        "# Function to predict sentiment for user input\n",
        "def predict_sentiment(user_input, model, tokenizer, label_mapping):\n",
        "    \"\"\"\n",
        "    Predict sentiment for a given Kannada text input.\n",
        "\n",
        "    Args:\n",
        "        user_input (str): Kannada text input from the user.\n",
        "        model: Fine-tuned IndicBERT model.\n",
        "        tokenizer: IndicBERT tokenizer.\n",
        "        label_mapping (dict): Mapping of numeric labels to sentiment names.\n",
        "\n",
        "    Returns:\n",
        "        str: Predicted sentiment.\n",
        "        float: Confidence score of the prediction.\n",
        "    \"\"\"\n",
        "    # Tokenize the input\n",
        "    inputs = tokenizer(user_input, truncation=True, padding=True, max_length=128, return_tensors=\"pt\").to(device)\n",
        "\n",
        "    # Predict using the model\n",
        "    with torch.no_grad():\n",
        "        outputs = model(**inputs)\n",
        "\n",
        "    # Get prediction scores\n",
        "    logits = outputs.logits\n",
        "    probs = torch.nn.functional.softmax(logits, dim=-1)\n",
        "    predicted_class = torch.argmax(probs).item()\n",
        "    confidence_score = probs[0][predicted_class].item()\n",
        "\n",
        "    # Map numeric label to sentiment name\n",
        "    predicted_label = label_mapping[predicted_class]\n",
        "    return predicted_label, confidence_score"
      ],
      "metadata": {
        "id": "jehMqIP0Z0v2"
      },
      "execution_count": 29,
      "outputs": []
    },
    {
      "cell_type": "code",
      "source": [
        "# Take user input in Kannada\n",
        "print(\"Enter Kannada text for sentiment analysis:\")\n",
        "user_input = input()\n",
        "\n",
        "# Predict sentiment and score\n",
        "predicted_label, confidence_score = predict_sentiment(user_input, model, tokenizer, label_mapping)\n",
        "\n",
        "# Display the results\n",
        "print(f\"Predicted Sentiment: {predicted_label}\")\n",
        "print(f\"Confidence Score: {confidence_score:.2f}\")"
      ],
      "metadata": {
        "colab": {
          "base_uri": "https://localhost:8080/"
        },
        "id": "8NM8O5a5Z6o8",
        "outputId": "592b43cc-28b4-46d5-cda5-eeb389ab9acf"
      },
      "execution_count": 31,
      "outputs": [
        {
          "output_type": "stream",
          "name": "stdout",
          "text": [
            "Enter Kannada text for sentiment analysis:\n",
            "ನಾನು ಚೆನ್ನಾಗಿ ಮಾಡಲಿಲ್ಲ\n",
            "Predicted Sentiment: negative\n",
            "Confidence Score: 0.34\n"
          ]
        }
      ]
    }
  ]
}